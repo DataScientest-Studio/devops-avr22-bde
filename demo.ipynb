{
 "cells": [
  {
   "cell_type": "code",
   "execution_count": 1,
   "id": "23bf1b73-461d-4365-b692-0c868a994bd5",
   "metadata": {},
   "outputs": [],
   "source": [
    "import requests"
   ]
  },
  {
   "cell_type": "code",
   "execution_count": 2,
   "id": "a4bc0651-73fc-48c6-9f50-002855365070",
   "metadata": {},
   "outputs": [],
   "source": [
    "base_url = \"https://api.openweathermap.org/data/2.5/weather\"\n",
    "\n",
    "response = requests.get(\n",
    "    url=base_url,\n",
    "    params={\n",
    "        \"lat\": 45,\n",
    "        \"lon\": 0,\n",
    "        \"appid\": \"37b483db2ece2589da0114fcedfc3bd4\"\n",
    "    }\n",
    ")"
   ]
  },
  {
   "cell_type": "code",
   "execution_count": 3,
   "id": "f96baab9-5f18-47e3-9962-798e4b2da47c",
   "metadata": {},
   "outputs": [
    {
     "data": {
      "text/plain": [
       "200"
      ]
     },
     "execution_count": 3,
     "metadata": {},
     "output_type": "execute_result"
    }
   ],
   "source": [
    "response.status_code"
   ]
  },
  {
   "cell_type": "code",
   "execution_count": 4,
   "id": "ef44004e-ffe3-481c-810d-4ec5cdf6265b",
   "metadata": {},
   "outputs": [
    {
     "data": {
      "text/plain": [
       "{'coord': {'lon': 0, 'lat': 45},\n",
       " 'weather': [{'id': 804,\n",
       "   'main': 'Clouds',\n",
       "   'description': 'overcast clouds',\n",
       "   'icon': '04d'}],\n",
       " 'base': 'stations',\n",
       " 'main': {'temp': 290.23,\n",
       "  'feels_like': 289.8,\n",
       "  'temp_min': 290.23,\n",
       "  'temp_max': 290.83,\n",
       "  'pressure': 1023,\n",
       "  'humidity': 69,\n",
       "  'sea_level': 1023,\n",
       "  'grnd_level': 1018},\n",
       " 'visibility': 10000,\n",
       " 'wind': {'speed': 1.64, 'deg': 264, 'gust': 2.2},\n",
       " 'clouds': {'all': 96},\n",
       " 'dt': 1652429977,\n",
       " 'sys': {'type': 1,\n",
       "  'id': 6451,\n",
       "  'country': 'FR',\n",
       "  'sunrise': 1652416413,\n",
       "  'sunset': 1652469556},\n",
       " 'timezone': 7200,\n",
       " 'id': 2984928,\n",
       " 'name': 'Puynormand',\n",
       " 'cod': 200}"
      ]
     },
     "execution_count": 4,
     "metadata": {},
     "output_type": "execute_result"
    }
   ],
   "source": [
    "response.json()"
   ]
  },
  {
   "cell_type": "code",
   "execution_count": 7,
   "id": "719be8fc-102d-4cb4-bfbb-00d8fe6c1604",
   "metadata": {},
   "outputs": [],
   "source": [
    "response = requests.get(\n",
    "    url=base_url,\n",
    "    params={\n",
    "        \"q\": \"paris\",\n",
    "        \"appid\": \"37b483db2ece2589da0114fcedfc3bd4\"\n",
    "    }\n",
    ")"
   ]
  },
  {
   "cell_type": "code",
   "execution_count": 8,
   "id": "3794eb4a-5c45-4431-a120-18edda65a09c",
   "metadata": {},
   "outputs": [
    {
     "data": {
      "text/plain": [
       "200"
      ]
     },
     "execution_count": 8,
     "metadata": {},
     "output_type": "execute_result"
    }
   ],
   "source": [
    "response.status_code"
   ]
  },
  {
   "cell_type": "code",
   "execution_count": 9,
   "id": "fbf229ff-8df4-436f-9a20-0617cecd15cf",
   "metadata": {},
   "outputs": [
    {
     "data": {
      "text/plain": [
       "{'coord': {'lon': 2.3488, 'lat': 48.8534},\n",
       " 'weather': [{'id': 800,\n",
       "   'main': 'Clear',\n",
       "   'description': 'clear sky',\n",
       "   'icon': '01d'}],\n",
       " 'base': 'stations',\n",
       " 'main': {'temp': 288.3,\n",
       "  'feels_like': 287.49,\n",
       "  'temp_min': 287.21,\n",
       "  'temp_max': 290.42,\n",
       "  'pressure': 1024,\n",
       "  'humidity': 62},\n",
       " 'visibility': 10000,\n",
       " 'wind': {'speed': 3.09, 'deg': 310},\n",
       " 'clouds': {'all': 0},\n",
       " 'dt': 1652429768,\n",
       " 'sys': {'type': 2,\n",
       "  'id': 2041230,\n",
       "  'country': 'FR',\n",
       "  'sunrise': 1652415113,\n",
       "  'sunset': 1652469728},\n",
       " 'timezone': 7200,\n",
       " 'id': 2988507,\n",
       " 'name': 'Paris',\n",
       " 'cod': 200}"
      ]
     },
     "execution_count": 9,
     "metadata": {},
     "output_type": "execute_result"
    }
   ],
   "source": [
    "response.json()"
   ]
  },
  {
   "cell_type": "code",
   "execution_count": 10,
   "id": "bd32ac40-2f08-4183-b46b-9133512302c5",
   "metadata": {},
   "outputs": [
    {
     "name": "stdout",
     "output_type": "stream",
     "text": [
      "200\n"
     ]
    },
    {
     "data": {
      "text/plain": [
       "{'hello': 'world'}"
      ]
     },
     "execution_count": 10,
     "metadata": {},
     "output_type": "execute_result"
    }
   ],
   "source": [
    "API_URL = \"http://127.0.0.1:8000\"\n",
    "\n",
    "response = requests.get(\n",
    "    url=f\"{API_URL}/\"\n",
    ")\n",
    "\n",
    "print(response.status_code)\n",
    "response.json()"
   ]
  },
  {
   "cell_type": "code",
   "execution_count": 16,
   "id": "717ad2a2-e19c-4f7f-8e6d-ea33c8203966",
   "metadata": {},
   "outputs": [
    {
     "name": "stdout",
     "output_type": "stream",
     "text": [
      "200\n"
     ]
    },
    {
     "data": {
      "text/plain": [
       "{'method': 'delete'}"
      ]
     },
     "execution_count": 16,
     "metadata": {},
     "output_type": "execute_result"
    }
   ],
   "source": [
    "response = requests.delete(\n",
    "    url=f\"{API_URL}/mon_delete\"\n",
    ")\n",
    "\n",
    "print(response.status_code)\n",
    "response.json()"
   ]
  },
  {
   "cell_type": "code",
   "execution_count": 11,
   "id": "60b5c4df-943c-48d7-9322-b7a6b6ba2810",
   "metadata": {},
   "outputs": [
    {
     "data": {
      "text/plain": [
       "'Mon nombre est: 1234'"
      ]
     },
     "execution_count": 11,
     "metadata": {},
     "output_type": "execute_result"
    }
   ],
   "source": [
    "b = 1234\n",
    "\n",
    "a = \"Mon nombre est: {}\".format(b)\n",
    "\n",
    "a "
   ]
  },
  {
   "cell_type": "code",
   "execution_count": 12,
   "id": "3af5623b-5cf0-4c50-9cd8-9a2733a541b9",
   "metadata": {},
   "outputs": [
    {
     "data": {
      "text/plain": [
       "'Mon nombre est: 1234'"
      ]
     },
     "execution_count": 12,
     "metadata": {},
     "output_type": "execute_result"
    }
   ],
   "source": [
    "b = 1234\n",
    "\n",
    "a = \"Mon nombre est: {nombre}\".format(nombre=b)\n",
    "\n",
    "a "
   ]
  },
  {
   "cell_type": "code",
   "execution_count": 13,
   "id": "f728bf45-ad88-4072-ac6d-ab2934f8a837",
   "metadata": {},
   "outputs": [
    {
     "data": {
      "text/plain": [
       "'Mon nombre est: 1234'"
      ]
     },
     "execution_count": 13,
     "metadata": {},
     "output_type": "execute_result"
    }
   ],
   "source": [
    "b = 1234\n",
    "\n",
    "a = \"Mon nombre est: \" + str(b)\n",
    "\n",
    "a "
   ]
  },
  {
   "cell_type": "code",
   "execution_count": 14,
   "id": "d6e8086a-7220-4011-96fb-858aac30a6c9",
   "metadata": {},
   "outputs": [
    {
     "data": {
      "text/plain": [
       "'Mon nombre est: 1234'"
      ]
     },
     "execution_count": 14,
     "metadata": {},
     "output_type": "execute_result"
    }
   ],
   "source": [
    "b = 1234\n",
    "\n",
    "a = f\"Mon nombre est: {b}\"\n",
    "\n",
    "a "
   ]
  },
  {
   "cell_type": "code",
   "execution_count": null,
   "id": "9a89e98b-fc69-4026-86eb-838ce90763f0",
   "metadata": {},
   "outputs": [],
   "source": []
  }
 ],
 "metadata": {
  "kernelspec": {
   "display_name": "Python 3 (ipykernel)",
   "language": "python",
   "name": "python3"
  },
  "language_info": {
   "codemirror_mode": {
    "name": "ipython",
    "version": 3
   },
   "file_extension": ".py",
   "mimetype": "text/x-python",
   "name": "python",
   "nbconvert_exporter": "python",
   "pygments_lexer": "ipython3",
   "version": "3.8.10"
  }
 },
 "nbformat": 4,
 "nbformat_minor": 5
}
